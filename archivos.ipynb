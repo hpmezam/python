{
 "cells": [
  {
   "cell_type": "markdown",
   "id": "fe8c22b7",
   "metadata": {},
   "source": [
    "Archivos y Excepciones"
   ]
  },
  {
   "cell_type": "code",
   "execution_count": 10,
   "id": "e4dca2f6",
   "metadata": {},
   "outputs": [
    {
     "name": "stdout",
     "output_type": "stream",
     "text": [
      "joal\n"
     ]
    }
   ],
   "source": [
    "# MODOS COMUNES:\n",
    "# 'r' → leer\n",
    "# 'w' → escribir (sobrescribe si existe)\n",
    "# 'a' → agregar al final\n",
    "# 'b' → modo binario ('rb', 'wb', etc.)\n",
    "# 'x' → crear archivo, error si ya existe\n",
    "\n",
    "archivo = open(\"datos.txt\", \"r\")\n",
    "contenido = archivo.read()       # Todo el contenido\n",
    "# linea = archivo.readline()       # Una línea\n",
    "# lineas = archivo.readlines()     # Lista de líneas\n",
    "print(contenido)                 # Imprime el contenido"
   ]
  },
  {
   "cell_type": "code",
   "execution_count": 24,
   "id": "7ded1019",
   "metadata": {},
   "outputs": [],
   "source": [
    "archivo = open('datos.txt', 'w')\n",
    "archivo.write('Hola mi nombre es Henry\\n')\n",
    "archivo.writelines(['Este es el segundo renglón\\n', 'Este es el tercer renglón\\n'])\n",
    "archivo.close()"
   ]
  },
  {
   "cell_type": "code",
   "execution_count": 29,
   "id": "b5dd9db2",
   "metadata": {},
   "outputs": [
    {
     "name": "stdout",
     "output_type": "stream",
     "text": [
      "Hola mi nombre es Henry\n",
      "Este es el segundo renglón\n",
      "Este es el tercer renglón\n",
      "\n"
     ]
    }
   ],
   "source": [
    "try:\n",
    "    with open('datos.txt', 'r') as archivo:\n",
    "        contenido = archivo.read()\n",
    "        print(contenido)\n",
    "except FileNotFoundError:\n",
    "    print(\"El archivo no existe. ¿Seguro que escribiste bien el nombre?\")"
   ]
  },
  {
   "cell_type": "code",
   "execution_count": 38,
   "id": "61c81eca",
   "metadata": {},
   "outputs": [
    {
     "name": "stdout",
     "output_type": "stream",
     "text": [
      "Código guardado en resultado.txt\n"
     ]
    }
   ],
   "source": [
    "codigo = \"\"\"def sumar(a, b):\n",
    "    return a + b\n",
    "\n",
    "def restar(a, b):\n",
    "    return a - b\"\"\"\n",
    "\n",
    "try:\n",
    "    with open('resultado.txt', 'w') as archivo:\n",
    "        archivo.write(f'{codigo}')\n",
    "    print('Código guardado en resultado.txt')\n",
    "except Exception as e:\n",
    "    print(f'Ocurrió un error: {e}')"
   ]
  },
  {
   "cell_type": "code",
   "execution_count": 39,
   "id": "ef0b6de2",
   "metadata": {},
   "outputs": [
    {
     "name": "stdout",
     "output_type": "stream",
     "text": [
      "def sumar(a, b):\n",
      "    return a + b\n",
      "\n",
      "def restar(a, b):\n",
      "    return a - b\n"
     ]
    }
   ],
   "source": [
    "try:\n",
    "    with open('resultado.txt', 'r') as archivo:\n",
    "        contenido = archivo.read()\n",
    "        print(contenido)\n",
    "except FileNotFoundError:\n",
    "    print(\"El archivo resultado.txt no existe. ¿Seguro que escribiste bien el nombre?\")"
   ]
  },
  {
   "cell_type": "code",
   "execution_count": 42,
   "id": "51e0343d",
   "metadata": {},
   "outputs": [
    {
     "name": "stdout",
     "output_type": "stream",
     "text": [
      "El resultado de la suma es: 56\n"
     ]
    }
   ],
   "source": [
    "exec(contenido)\n",
    "resultado = sumar(50, 6)\n",
    "print(f'El resultado de la suma es: {resultado}')"
   ]
  }
 ],
 "metadata": {
  "kernelspec": {
   "display_name": "python_310",
   "language": "python",
   "name": "python3"
  },
  "language_info": {
   "codemirror_mode": {
    "name": "ipython",
    "version": 3
   },
   "file_extension": ".py",
   "mimetype": "text/x-python",
   "name": "python",
   "nbconvert_exporter": "python",
   "pygments_lexer": "ipython3",
   "version": "3.10.16"
  }
 },
 "nbformat": 4,
 "nbformat_minor": 5
}
