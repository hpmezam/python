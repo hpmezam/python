{
 "cells": [
  {
   "cell_type": "markdown",
   "id": "79d9da21",
   "metadata": {},
   "source": [
    "Una pila es una colección, lo que significa que es una estructura de datos que contiene elementos múltiples."
   ]
  },
  {
   "cell_type": "code",
   "execution_count": 1,
   "id": "56ffb446",
   "metadata": {},
   "outputs": [],
   "source": [
    "# La interfaz para una pila consta de estas operaciones:\n",
    "# - init : Inicializar una pila nueva y vac¶³a.\n",
    "# - push: A~nadir un elemento a la pila.\n",
    "# - pop: Extraer un elemento de la pila. El elemento devuelto siempre es el último que se añadió..\n",
    "# - isEmpty: Probar si la pila está vacía.\n",
    "# - size: Obtener el número de elementos en la pila.\n",
    "\n",
    "# A veces a una pila se la llama una estructura \"último en entrar primero en salir\" \n",
    "# (\"last in, first out\" en inglés), o LIFO,\n",
    "\n",
    "class Pila:\n",
    "    def __init__(self):\n",
    "        self.elementos= []\n",
    "\n",
    "    def push(self, elemento):\n",
    "        self.elementos.append(elemento)\n",
    "    \n",
    "    def pop(self):\n",
    "        return self.elementos.pop()\n",
    "\n",
    "    def isEmpty(self):\n",
    "        return (self.elementos == [])"
   ]
  },
  {
   "cell_type": "code",
   "execution_count": 4,
   "id": "a0aece05",
   "metadata": {},
   "outputs": [
    {
     "name": "stdout",
     "output_type": "stream",
     "text": [
      "+\n",
      "23\n",
      "54\n"
     ]
    }
   ],
   "source": [
    "s = Pila()\n",
    "s.push(54)\n",
    "s.push(23)\n",
    "s.push('+')\n",
    "\n",
    "while not s.isEmpty():\n",
    "    print(s.pop())"
   ]
  },
  {
   "cell_type": "markdown",
   "id": "ba66fcfe",
   "metadata": {},
   "source": [
    "Ejercicio: Simulador de Navegación en un Navegador Web (Pilas)"
   ]
  },
  {
   "cell_type": "code",
   "execution_count": 20,
   "id": "a0efb175",
   "metadata": {},
   "outputs": [],
   "source": [
    "\"\"\"Vas a crear un sistema donde puedas:\n",
    "\n",
    "* Visitar páginas web.\n",
    "* Regresar a la página anterior (como el botón \"atrás\").\n",
    "* Avanzar si te arrepentiste (como el botón \"adelante\").\n",
    "* Ver en qué página estás.\n",
    "* Mostrar historial de navegación.\"\"\"\n",
    "\n",
    "class NavegadorWeb:\n",
    "    def __init__(self):\n",
    "        self.adelante = []\n",
    "        self.historial = []\n",
    "\n",
    "    def visitar_pagina(self, url):\n",
    "        if self.historial:\n",
    "            print(f'\\nSaliendo de : {self.historial[-1]}')\n",
    "        print(f'Visitando: {url}')\n",
    "        self.historial.append(url)\n",
    "        self.adelante.clear() # Cada vez que visitas una nueva página, se limpian las páginas \"adelante\".\n",
    "    \n",
    "    def regresar(self):\n",
    "        if len(self.historial) <= 1:\n",
    "            print('\\nNo hay páginas para regresar.')\n",
    "            return\n",
    "        pagina_actual = self.historial.pop()\n",
    "        self.adelante.append(pagina_actual)\n",
    "        print(f'\\nRegresando a: {self.historial[-1]}')\n",
    "\n",
    "    def avanzar(self):\n",
    "        if not self.adelante:\n",
    "            print('\\nNo hay páginas para avanzar.')\n",
    "            return\n",
    "        pagina = self.adelante.pop()\n",
    "        self.historial.append(pagina)\n",
    "        print(f'\\nAvanzaste a: {pagina}')\n",
    "\n",
    "    def pagina_actual(self):\n",
    "        if self.historial:\n",
    "            print(f\"\\nEstás en: {self.historial[-1]}\")\n",
    "        else:\n",
    "            print(\"\\nNo has visitado ninguna página.\")\n",
    "\n",
    "    def mostrar_historial(self):\n",
    "        print(\"\\nHistorial de navegación:\")\n",
    "        for pagina in reversed(self.historial):\n",
    "            print(f\"- {pagina}\")"
   ]
  },
  {
   "cell_type": "code",
   "execution_count": 24,
   "id": "d5570451",
   "metadata": {},
   "outputs": [
    {
     "name": "stdout",
     "output_type": "stream",
     "text": [
      "Visitando: https://www.google.com\n",
      "\n",
      "Saliendo de : https://www.google.com\n",
      "Visitando: https://www.wikipedia.org\n",
      "\n",
      "Saliendo de : https://www.wikipedia.org\n",
      "Visitando: https://www.python.org\n",
      "\n",
      "Estás en: https://www.python.org\n",
      "\n",
      "Regresando a: https://www.wikipedia.org\n",
      "\n",
      "Estás en: https://www.wikipedia.org\n",
      "\n",
      "Avanzaste a: https://www.python.org\n",
      "\n",
      "Estás en: https://www.python.org\n",
      "\n",
      "Historial de navegación:\n",
      "- https://www.python.org\n",
      "- https://www.wikipedia.org\n",
      "- https://www.google.com\n"
     ]
    }
   ],
   "source": [
    "nav = NavegadorWeb()\n",
    "nav.visitar_pagina('https://www.google.com')\n",
    "nav.visitar_pagina('https://www.wikipedia.org')\n",
    "nav.visitar_pagina('https://www.python.org')\n",
    "\n",
    "nav.pagina_actual()\n",
    "nav.regresar()\n",
    "nav.pagina_actual()\n",
    "\n",
    "nav.avanzar()\n",
    "nav.pagina_actual()\n",
    "\n",
    "nav.mostrar_historial()"
   ]
  }
 ],
 "metadata": {
  "kernelspec": {
   "display_name": "python_310",
   "language": "python",
   "name": "python3"
  },
  "language_info": {
   "codemirror_mode": {
    "name": "ipython",
    "version": 3
   },
   "file_extension": ".py",
   "mimetype": "text/x-python",
   "name": "python",
   "nbconvert_exporter": "python",
   "pygments_lexer": "ipython3",
   "version": "3.10.16"
  }
 },
 "nbformat": 4,
 "nbformat_minor": 5
}
