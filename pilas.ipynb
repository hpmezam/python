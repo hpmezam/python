{
 "cells": [
  {
   "cell_type": "markdown",
   "id": "79d9da21",
   "metadata": {},
   "source": [
    "Una pila es una colección, lo que significa que es una estructura de datos que contiene elementos múltiples."
   ]
  },
  {
   "cell_type": "code",
   "execution_count": 1,
   "id": "56ffb446",
   "metadata": {},
   "outputs": [],
   "source": [
    "# La interfaz para una pila consta de estas operaciones:\n",
    "# - init : Inicializar una pila nueva y vac¶³a.\n",
    "# - push: A~nadir un elemento a la pila.\n",
    "# - pop: Extraer un elemento de la pila. El elemento devuelto siempre es el último que se añadió..\n",
    "# - isEmpty: Probar si la pila está vacía.\n",
    "# - size: Obtener el número de elementos en la pila.\n",
    "\n",
    "# A veces a una pila se la llama una estructura \"último en entrar primero en salir\" \n",
    "# (\"last in, first out\" en inglés), o LIFO,\n",
    "\n",
    "class Pila:\n",
    "    def __init__(self):\n",
    "        self.elementos= []\n",
    "\n",
    "    def push(self, elemento):\n",
    "        self.elementos.append(elemento)\n",
    "    \n",
    "    def pop(self):\n",
    "        return self.elementos.pop()\n",
    "\n",
    "    def isEmpty(self):\n",
    "        return (self.elementos == [])"
   ]
  },
  {
   "cell_type": "code",
   "execution_count": 4,
   "id": "a0aece05",
   "metadata": {},
   "outputs": [
    {
     "name": "stdout",
     "output_type": "stream",
     "text": [
      "+\n",
      "23\n",
      "54\n"
     ]
    }
   ],
   "source": [
    "s = Pila()\n",
    "s.push(54)\n",
    "s.push(23)\n",
    "s.push('+')\n",
    "\n",
    "while not s.isEmpty():\n",
    "    print(s.pop())"
   ]
  }
 ],
 "metadata": {
  "kernelspec": {
   "display_name": "python_310",
   "language": "python",
   "name": "python3"
  },
  "language_info": {
   "codemirror_mode": {
    "name": "ipython",
    "version": 3
   },
   "file_extension": ".py",
   "mimetype": "text/x-python",
   "name": "python",
   "nbconvert_exporter": "python",
   "pygments_lexer": "ipython3",
   "version": "3.10.16"
  }
 },
 "nbformat": 4,
 "nbformat_minor": 5
}
