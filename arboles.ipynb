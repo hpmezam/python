{
 "cells": [
  {
   "cell_type": "markdown",
   "id": "887f44fe",
   "metadata": {},
   "source": [
    "Ejemplo: Árbol Binario para Clasificar Personas según Edad"
   ]
  },
  {
   "cell_type": "code",
   "execution_count": 6,
   "id": "978b6dd9",
   "metadata": {},
   "outputs": [],
   "source": [
    "class Nodo:\n",
    "    def __init__(self, edad, nombre):\n",
    "        self.edad = edad\n",
    "        self.nombre = nombre\n",
    "        self.izquierda = None\n",
    "        self.derecha = None\n",
    "\n",
    "class ArbolBinario:\n",
    "    def __init__(self):\n",
    "        self.raiz = None\n",
    "\n",
    "    def insertar(self, edad, nombre):\n",
    "        nuevo_nodo = Nodo(edad, nombre)\n",
    "        if not self.raiz:\n",
    "            self.raiz = nuevo_nodo\n",
    "        else:\n",
    "            self._insertar_recursivo(self.raiz, nuevo_nodo)\n",
    "    \n",
    "    def _insertar_recursivo(self, actual, nuevo):\n",
    "        if nuevo.edad < actual.edad:\n",
    "            if actual.izquierda:\n",
    "                self._insertar_recursivo(actual.izquierda, nuevo)\n",
    "            else:\n",
    "                actual.izquierda = nuevo\n",
    "        else:\n",
    "            if actual.derecha:\n",
    "                self._insertar_recursivo(actual.derecha, nuevo)\n",
    "            else:\n",
    "                actual.derecha = nuevo\n",
    "\n",
    "    def buscar_personas_mayores(self, edad_minima):\n",
    "        print(f\"Personas con edad mayor o igual a {edad_minima}:\")\n",
    "        self._buscar_mayores(self.raiz, edad_minima)\n",
    "        \n",
    "    def _buscar_mayores(self, nodo, edad_minima):\n",
    "        if nodo:\n",
    "            if nodo.edad >= edad_minima:\n",
    "                print(f'- {nodo.nombre}, {nodo.edad} años')\n",
    "            self._buscar_mayores(nodo.izquierda, edad_minima)\n",
    "            self._buscar_mayores(nodo.derecha, edad_minima)\n"
   ]
  },
  {
   "cell_type": "code",
   "execution_count": 7,
   "id": "fce7a45b",
   "metadata": {},
   "outputs": [
    {
     "name": "stdout",
     "output_type": "stream",
     "text": [
      "Personas con edad mayor o igual a 30:\n",
      "- Ana, 32 años\n",
      "- Luisa, 40 años\n"
     ]
    }
   ],
   "source": [
    "arbol = ArbolBinario()\n",
    "arbol.insertar(25, \"Carlos\")\n",
    "arbol.insertar(32, \"Ana\")\n",
    "arbol.insertar(19, \"Pedro\")\n",
    "arbol.insertar(40, \"Luisa\")\n",
    "arbol.insertar(22, \"Sofía\")\n",
    "\n",
    "arbol.buscar_personas_mayores(30)\n"
   ]
  }
 ],
 "metadata": {
  "kernelspec": {
   "display_name": "python_310",
   "language": "python",
   "name": "python3"
  },
  "language_info": {
   "codemirror_mode": {
    "name": "ipython",
    "version": 3
   },
   "file_extension": ".py",
   "mimetype": "text/x-python",
   "name": "python",
   "nbconvert_exporter": "python",
   "pygments_lexer": "ipython3",
   "version": "3.10.16"
  }
 },
 "nbformat": 4,
 "nbformat_minor": 5
}
