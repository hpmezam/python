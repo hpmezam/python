{
 "cells": [
  {
   "cell_type": "markdown",
   "id": "1bd551af",
   "metadata": {},
   "source": [
    "Los diccionarios son similares a otros tipos compuestos excepto en que pueden\n",
    "usar como índice cualquier tipo inmutable.\n",
    "\n",
    "En un diccionario, los índices se llaman claves, por eso los elementos se llaman pares\n",
    "clave-valor."
   ]
  },
  {
   "cell_type": "code",
   "execution_count": 6,
   "id": "d2be7435",
   "metadata": {},
   "outputs": [
    {
     "name": "stdout",
     "output_type": "stream",
     "text": [
      "{'nombre': 'Henry', 'apellido': 'Meza'}\n"
     ]
    }
   ],
   "source": [
    "estudiante  = {}\n",
    "estudiante['nombre'] = 'Henry'\n",
    "estudiante['apellido'] = 'Meza'\n",
    "\n",
    "print(estudiante)"
   ]
  },
  {
   "cell_type": "markdown",
   "id": "7168ff47",
   "metadata": {},
   "source": [
    "Operaciones con diccionarios"
   ]
  },
  {
   "cell_type": "code",
   "execution_count": 10,
   "id": "98767a24",
   "metadata": {},
   "outputs": [
    {
     "name": "stdout",
     "output_type": "stream",
     "text": [
      "{'manzanas': 430, 'peras': 217, 'naranjas': 525, 'bananas': 312}\n",
      "{'manzanas': 430, 'naranjas': 525, 'bananas': 312}\n",
      "{'manzanas': 430, 'naranjas': 525, 'bananas': 312, 'peras': 0}\n",
      "4\n"
     ]
    }
   ],
   "source": [
    "inventario = {'manzanas': 430, 'peras': 217, 'naranjas': 525, 'bananas': 312}\n",
    "print(inventario)\n",
    "del inventario['peras']\n",
    "print(inventario)\n",
    "inventario['peras'] = 0\n",
    "print(inventario)\n",
    "print(len(inventario))"
   ]
  },
  {
   "cell_type": "markdown",
   "id": "68442889",
   "metadata": {},
   "source": [
    "Métodos del diccionario"
   ]
  },
  {
   "cell_type": "code",
   "execution_count": 18,
   "id": "b1fdcbc3",
   "metadata": {},
   "outputs": [
    {
     "data": {
      "text/plain": [
       "dict_items([('manzanas', 430), ('naranjas', 525), ('bananas', 312), ('peras', 0)])"
      ]
     },
     "execution_count": 18,
     "metadata": {},
     "output_type": "execute_result"
    }
   ],
   "source": [
    "# Devuelvel la lista de claves\n",
    "inventario.keys()\n",
    "# Devuelvel la lista de valores\n",
    "inventario.values()\n",
    "# Devuelve una lista de tuplas (clave, valor)\n",
    "inventario.items()"
   ]
  },
  {
   "cell_type": "markdown",
   "id": "e0565b08",
   "metadata": {},
   "source": [
    "Asignación de alias y copiado"
   ]
  },
  {
   "cell_type": "code",
   "execution_count": 29,
   "id": "d2f4e8c0",
   "metadata": {},
   "outputs": [
    {
     "name": "stdout",
     "output_type": "stream",
     "text": [
      "alias: {'arriba': 'abajo', 'izquierda': 'derecha', 'adelante': 'atras'}\n",
      "copia: {'arriba': 'abajo', 'izquierda': 'derecha', 'adelante': 'atras'}\n",
      "alias: {'arriba': 'abajo', 'izquierda': 'derecha', 'adelante': 'atras', 'derecho': 'sentado'}\n",
      "opuestos: {'arriba': 'abajo', 'izquierda': 'derecha', 'adelante': 'atras', 'derecho': 'sentado', 'gato': 'gata'}\n",
      "copia: {'arriba': 'abajo', 'izquierda': 'derecha', 'adelante': 'atras'}\n"
     ]
    }
   ],
   "source": [
    "# Si quiere modificar un diccionario y mantener una copia del original, use el método copy.\n",
    "opuestos = {'arriba': 'abajo', 'izquierda': 'derecha', 'adelante': 'atras'}\n",
    "alias = opuestos\n",
    "print(f'alias: {alias}')\n",
    "copia = opuestos.copy()\n",
    "print(f'copia: {copia}')\n",
    "alias['derecho'] = 'sentado'\n",
    "print(f'alias: {alias}')\n",
    "opuestos['gato'] = 'gata'\n",
    "print(f'opuestos: {alias}')\n",
    "print(f'copia: {copia}')"
   ]
  },
  {
   "attachments": {
    "image.png": {
     "image/png": "[encoded data removed]"
    }
   },
   "cell_type": "markdown",
   "id": "39e85c53",
   "metadata": {},
   "source": [
    "Matrices dispersas\n",
    "![image.png](attachment:image.png)"
   ]
  },
  {
   "cell_type": "code",
   "execution_count": 44,
   "id": "06870a77",
   "metadata": {},
   "outputs": [
    {
     "name": "stdout",
     "output_type": "stream",
     "text": [
      "{(0, 3): 1, (2, 1): 2, (4, 3): 3}\n",
      "3\n"
     ]
    }
   ],
   "source": [
    "matriz = {(0, 3): 1, (2, 1): 2, (4, 3): 3}\n",
    "print(matriz)\n",
    "print(matriz[(4,3)])"
   ]
  },
  {
   "cell_type": "code",
   "execution_count": 51,
   "id": "b64a631b",
   "metadata": {},
   "outputs": [
    {
     "name": "stdout",
     "output_type": "stream",
     "text": [
      "{'a': 5, 'b': 2, 'r': 2, 'c': 1, 'd': 1}\n",
      "dict_items([('a', 5), ('b', 2), ('r', 2), ('c', 1), ('d', 1)])\n"
     ]
    }
   ],
   "source": [
    "cuentaLetras = {}\n",
    "for letra in 'abracadabra':\n",
    "    cuentaLetras[letra] = cuentaLetras.get(letra, 0) + 1\n",
    "print(cuentaLetras)\n",
    "items = cuentaLetras.items()\n",
    "print(items)\n"
   ]
  }
 ],
 "metadata": {
  "kernelspec": {
   "display_name": "python_310",
   "language": "python",
   "name": "python3"
  },
  "language_info": {
   "codemirror_mode": {
    "name": "ipython",
    "version": 3
   },
   "file_extension": ".py",
   "mimetype": "text/x-python",
   "name": "python",
   "nbconvert_exporter": "python",
   "pygments_lexer": "ipython3",
   "version": "3.10.16"
  }
 },
 "nbformat": 4,
 "nbformat_minor": 5
}
