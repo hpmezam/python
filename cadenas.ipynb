{
 "cells": [
  {
   "cell_type": "markdown",
   "id": "4b5a7a4e",
   "metadata": {},
   "source": [
    "Un tipo de datos compuesto"
   ]
  },
  {
   "cell_type": "code",
   "execution_count": 4,
   "id": "a10780d0",
   "metadata": {},
   "outputs": [
    {
     "name": "stdout",
     "output_type": "stream",
     "text": [
      "b a n a n a \n",
      "b\n"
     ]
    }
   ],
   "source": [
    "fruta = 'banana'\n",
    "for i in fruta:\n",
    "    print(i, end=' ')\n",
    "print()\n",
    "print(fruta[0])"
   ]
  },
  {
   "cell_type": "markdown",
   "id": "b5d29c09",
   "metadata": {},
   "source": [
    "Longitud"
   ]
  },
  {
   "cell_type": "code",
   "execution_count": 9,
   "id": "5aa73c42",
   "metadata": {},
   "outputs": [
    {
     "name": "stdout",
     "output_type": "stream",
     "text": [
      "longitud: 6\n",
      "ultima: a\n"
     ]
    }
   ],
   "source": [
    "longitud = len(fruta)\n",
    "print(f'longitud: {longitud}')\n",
    "ultima = fruta[-1]\n",
    "print(f'ultima: {ultima}')"
   ]
  },
  {
   "cell_type": "markdown",
   "id": "c2559e72",
   "metadata": {},
   "source": [
    "Recorrido y el bucle for"
   ]
  },
  {
   "cell_type": "code",
   "execution_count": 17,
   "id": "8f37a07a",
   "metadata": {},
   "outputs": [
    {
     "name": "stdout",
     "output_type": "stream",
     "text": [
      "b a n a n a \n",
      "b a n a n a \n",
      "Jack\n",
      "Kack\n",
      "Lack\n",
      "Mack\n",
      "Nack\n",
      "Oack\n",
      "Pack\n",
      "Qack\n",
      "Rack\n",
      "Sack\n",
      "Tack\n",
      "Uack\n"
     ]
    }
   ],
   "source": [
    "indice = 0\n",
    "while indice < len(fruta):\n",
    "    letra = fruta[indice]\n",
    "    print(letra, end = ' ')\n",
    "    indice += 1\n",
    "\n",
    "print()\n",
    "for car in fruta:\n",
    "    print(car, end = ' ')\n",
    "\n",
    "print()\n",
    "\n",
    "prefijos = 'JKLMNOPQRSTU'\n",
    "sufijo = 'ack'\n",
    "\n",
    "for i in prefijos:\n",
    "    print(i+sufijo)"
   ]
  },
  {
   "cell_type": "markdown",
   "id": "f4621a67",
   "metadata": {},
   "source": [
    "Porciones de cadenas"
   ]
  },
  {
   "cell_type": "code",
   "execution_count": 38,
   "id": "da93b8ab",
   "metadata": {},
   "outputs": [
    {
     "name": "stdout",
     "output_type": "stream",
     "text": [
      "Poa,Ma\n",
      "abcd\n"
     ]
    }
   ],
   "source": [
    "s = 'Pedro, Pablo, y María'\n",
    "print(s[0:80:4])\n",
    "\n",
    "fruta = 'abcdefghijklmn'\n",
    "print(fruta[:4])"
   ]
  },
  {
   "cell_type": "markdown",
   "id": "45e53903",
   "metadata": {},
   "source": [
    "Comparación de cadenas"
   ]
  },
  {
   "cell_type": "code",
   "execution_count": 2,
   "id": "b79673d5",
   "metadata": {},
   "outputs": [
    {
     "name": "stdout",
     "output_type": "stream",
     "text": [
      "Si hay bananas!\n"
     ]
    }
   ],
   "source": [
    "palabra = 'banana'\n",
    "if palabra == 'banana':\n",
    "    print('Si hay bananas!')\n",
    "else:\n",
    "    print(f'No hay bananas!')\n"
   ]
  }
 ],
 "metadata": {
  "kernelspec": {
   "display_name": "python_310",
   "language": "python",
   "name": "python3"
  },
  "language_info": {
   "codemirror_mode": {
    "name": "ipython",
    "version": 3
   },
   "file_extension": ".py",
   "mimetype": "text/x-python",
   "name": "python",
   "nbconvert_exporter": "python",
   "pygments_lexer": "ipython3",
   "version": "3.10.16"
  }
 },
 "nbformat": 4,
 "nbformat_minor": 5
}
