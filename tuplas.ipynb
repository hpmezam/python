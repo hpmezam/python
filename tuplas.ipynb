{
 "cells": [
  {
   "cell_type": "code",
   "execution_count": 30,
   "id": "ea7a9082",
   "metadata": {},
   "outputs": [
    {
     "name": "stdout",
     "output_type": "stream",
     "text": [
      "[72, 41, 88, 47, 40, 97, 72, 41, 76, 22]\n",
      "Aletarios\n",
      "[52, 12, 87, 26, 81, 57, 97, 93, 17, 16]\n"
     ]
    }
   ],
   "source": [
    "import random\n",
    "def listaAleatorios(n):\n",
    "    s = [0]*n\n",
    "    for i in range(n):\n",
    "        s[i] = random.randint(1, 100)\n",
    "    return s\n",
    "\n",
    "def aletarios(n):\n",
    "    lista = []\n",
    "    for i in range(n):\n",
    "        lista.append(random.randint(1, 100))\n",
    "    return lista\n",
    "\n",
    "\n",
    "lista = listaAleatorios(10)\n",
    "print(lista)\n",
    "print(\"Aletarios\")\n",
    "print(aletarios(10))"
   ]
  },
  {
   "cell_type": "code",
   "execution_count": 39,
   "id": "c8ac17ca",
   "metadata": {},
   "outputs": [
    {
     "name": "stdout",
     "output_type": "stream",
     "text": [
      "3\n",
      "4\n",
      "3 1 8\n",
      "3 2 8\n",
      "3 3 8\n",
      "3 4 8\n",
      "3 5 8\n",
      "3 6 8\n",
      "3 7 8\n",
      "3 8 8\n",
      "3 9 8\n",
      "3 10 8\n",
      "4\n"
     ]
    }
   ],
   "source": [
    "# Conteo\n",
    "fruta = 'banana'\n",
    "lista = [1, 2, 3, 4, 5, 6, 7, 8, 9, 10]\n",
    "cuenta = 0\n",
    "for car in fruta:\n",
    "    if car == 'a':\n",
    "        cuenta += 1\n",
    "print(cuenta)\n",
    "\n",
    "cuenta = 0\n",
    "minimo = 3\n",
    "maximo = 8\n",
    "for num in lista:\n",
    "    # print(minimo, num, maximo)\n",
    "    if minimo < num < maximo:\n",
    "        cuenta += 1\n",
    "print(cuenta)\n",
    "\n",
    "def enElBalde(lista, minimo, maximo):\n",
    "    cuenta = 0\n",
    "    for num in lista:\n",
    "        print(minimo, num, maximo)\n",
    "        if minimo < num < maximo:\n",
    "            cuenta += 1\n",
    "    return cuenta\n",
    "\n",
    "print(enElBalde(lista, 3, 8))"
   ]
  }
 ],
 "metadata": {
  "kernelspec": {
   "display_name": "python_310",
   "language": "python",
   "name": "python3"
  },
  "language_info": {
   "codemirror_mode": {
    "name": "ipython",
    "version": 3
   },
   "file_extension": ".py",
   "mimetype": "text/x-python",
   "name": "python",
   "nbconvert_exporter": "python",
   "pygments_lexer": "ipython3",
   "version": "3.10.16"
  }
 },
 "nbformat": 4,
 "nbformat_minor": 5
}
