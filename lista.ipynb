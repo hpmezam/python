{
 "cells": [
  {
   "cell_type": "code",
   "execution_count": 13,
   "id": "a87222fc",
   "metadata": {},
   "outputs": [
    {
     "name": "stdout",
     "output_type": "stream",
     "text": [
      "s p 0 m \n",
      "1 0 \n",
      "g o l o n d r i n 0 \n"
     ]
    }
   ],
   "source": [
    "lista = [\"spam\", '10', \"golondrina\"]\n",
    "for i in lista:\n",
    "    for j in i:\n",
    "        if j == 'a':\n",
    "            j = 0\n",
    "            print(j, end=' ')\n",
    "        else:\n",
    "            print(j, end=' ')\n",
    "        \n",
    "    print()"
   ]
  },
  {
   "cell_type": "code",
   "execution_count": 27,
   "id": "21cb66e2",
   "metadata": {},
   "outputs": [
    {
     "data": {
      "text/plain": [
       "[0, 2, 4, 6, 8, 10, 12, 14, 16, 18]"
      ]
     },
     "execution_count": 27,
     "metadata": {},
     "output_type": "execute_result"
    }
   ],
   "source": [
    "a = [i*2 for i in range(10)]\n",
    "a"
   ]
  },
  {
   "cell_type": "code",
   "execution_count": 47,
   "id": "c7e317b4",
   "metadata": {},
   "outputs": [
    {
     "name": "stdout",
     "output_type": "stream",
     "text": [
      "Si se encuentra en la posicion: [1, 3, 5, 9]\n"
     ]
    }
   ],
   "source": [
    "jinetes = ['guerra', 'hambre', 'guerra', 'muerte', 'guerra', 'hambre', 'peste', 'muerte', 'guerra', 'hambre', 'peste', 'muerte']\n",
    "variable = 'guerra'\n",
    "if variable in jinetes:\n",
    "    cont = 0\n",
    "    posiciones = []\n",
    "    for i in jinetes:\n",
    "        cont +=1\n",
    "        if i == variable:\n",
    "            pos = cont\n",
    "            if cont == 1:\n",
    "                posiciones.append(pos)\n",
    "            else:\n",
    "                posiciones.append(pos)\n",
    "    print(f'Si se encuentra en la posicion: {posiciones}')\n",
    "else:\n",
    "    print('No se encuentra')"
   ]
  },
  {
   "cell_type": "code",
   "execution_count": null,
   "id": "59240b2f",
   "metadata": {},
   "outputs": [
    {
     "name": "stdout",
     "output_type": "stream",
     "text": [
      "brillo\n",
      "['plátano', 'manzana', 'mema']\n"
     ]
    }
   ],
   "source": [
    "# LAS LISTAS SON MUTABLES\n",
    "fruta = [\"plátano\", \"manzana\", \"membrillo\"]\n",
    "print(fruta[2][3:])\n",
    "fruta[2] = fruta[2][0:3] + 'a'\n",
    "print(fruta)"
   ]
  },
  {
   "cell_type": "code",
   "execution_count": 66,
   "id": "7fb00ec9",
   "metadata": {},
   "outputs": [
    {
     "name": "stdout",
     "output_type": "stream",
     "text": [
      "['uno', 'dos', 'tres']\n",
      "['cuatro', 'cinco', 'tres']\n",
      "['cuatro', 'cinco', 'tres', 'seis']\n",
      "['cuatro', 'cinco', 'siete', 'tres', 'seis']\n",
      "['siete', 'tres', 'seis']\n",
      "['siete', 'tres']\n"
     ]
    }
   ],
   "source": [
    "# BORRADO EN UNA LISTA\n",
    "lista = ['uno', 'dos', 'tres']\n",
    "print(lista)\n",
    "lista[0:2] = ['cuatro', 'cinco']\n",
    "print(lista)\n",
    "lista.append('seis')\n",
    "print(lista)\n",
    "lista.insert(2, 'siete')\n",
    "print(lista)\n",
    "del lista[0:2]\n",
    "print(lista)\n",
    "lista.remove('seis')\n",
    "print(lista)"
   ]
  },
  {
   "cell_type": "markdown",
   "id": "5c7e44a4",
   "metadata": {},
   "source": [
    "Lista como parámetros"
   ]
  },
  {
   "cell_type": "code",
   "execution_count": 79,
   "id": "8ab779ef",
   "metadata": {},
   "outputs": [
    {
     "name": "stdout",
     "output_type": "stream",
     "text": [
      "[2, 3, 4, 5]\n",
      "[2, 4]\n"
     ]
    }
   ],
   "source": [
    "numeros = [1, 2, 3, 4, 5]\n",
    "def borrarCabeza(lista):\n",
    "    del lista[0]\n",
    "    return lista\n",
    "\n",
    "a = borrarCabeza(numeros)\n",
    "print(numeros)\n",
    "\n",
    "def cola(lista):\n",
    "    return lista[:4:2]\n",
    "\n",
    "b = cola(numeros)\n",
    "print(b)"
   ]
  },
  {
   "cell_type": "markdown",
   "id": "36199a48",
   "metadata": {},
   "source": [
    "Matrices"
   ]
  },
  {
   "cell_type": "code",
   "execution_count": 88,
   "id": "30ff84b3",
   "metadata": {},
   "outputs": [
    {
     "name": "stdout",
     "output_type": "stream",
     "text": [
      "[[4, 5, 6], [7, 8, 9]]\n",
      "6\n",
      "[9]\n"
     ]
    }
   ],
   "source": [
    "matriz = [[1, 2, 3], [4, 5, 6], [7, 8, 9]]\n",
    "print(matriz[1:])\n",
    "print(matriz[1][2])\n",
    "print(matriz[2][2:])"
   ]
  },
  {
   "cell_type": "markdown",
   "id": "249938ae",
   "metadata": {},
   "source": [
    "Ejercicio: Gestión de Inventario de una Tienda"
   ]
  },
  {
   "cell_type": "code",
   "execution_count": 165,
   "id": "c6772d83",
   "metadata": {},
   "outputs": [],
   "source": [
    "\"\"\"Eres el desarrollador de una tienda en línea que vende productos de tecnología. Necesitas crear una función que gestione el inventario. \n",
    "El inventario se guarda como una lista de productos, donde cada producto es también una lista con la siguiente información:\n",
    "[ID, nombre_producto, categoría, stock, precio_unitario]\n",
    "\n",
    "Implementa un programa con las siguientes funciones:\n",
    "\n",
    "1. mostrar_inventario()\n",
    "    * Muestra todos los productos ordenados por categoría.\n",
    "\n",
    "2. buscar_producto(nombre)\n",
    "    * Busca un producto por nombre y devuelve su información completa.\n",
    "\n",
    "3. vender_producto(id_producto, cantidad)\n",
    "    * Si hay suficiente stock, descuéntalo y muestra el total a pagar.\n",
    "    * Si no hay suficiente, muestra un mensaje de error.\n",
    "\n",
    "4. productos_bajos_stock(inventario, limite)\n",
    "    * Devuelve una lista con productos cuyo stock es menor o igual al límite dado.\"\"\"\n",
    "\n",
    "class Producto:\n",
    "    def __init__(self, id, nombre, categoria, stock, precio):\n",
    "        self.id = id\n",
    "        self.nombre = nombre\n",
    "        self.categoria = categoria\n",
    "        self.stock = stock\n",
    "        self.precio = precio\n",
    "\n",
    "    def __str__(self):\n",
    "        return f\"[{self.id}] {self.nombre} - {self.categoria} | Stock: {self.stock} | ${self.precio:.2f}\"\n",
    "\n",
    "\n",
    "class Inventario:\n",
    "    def __init__(self):\n",
    "        self.productos = []\n",
    "\n",
    "    def agregar_producto(self, producto):\n",
    "        for p in self.productos:\n",
    "            if p.id == producto.id:\n",
    "                print(f\"El producto con ID {producto.id} ya existe.\")\n",
    "                return\n",
    "        self.productos.append(producto)\n",
    "\n",
    "    def mostrar_inventario(self):\n",
    "        ordenados = sorted(self.productos, key=lambda p: p.categoria)\n",
    "        print(\"\\nInventario de productos:\")\n",
    "        for p in ordenados:\n",
    "            print(f'{p}')\n",
    "\n",
    "    def buscar_producto(self, nombre):\n",
    "        for p in self.productos:\n",
    "            if p.nombre.lower() == nombre.lower():\n",
    "                return '\\nEl producto es: ' + str(p)\n",
    "        return 'Producto no encontrado'\n",
    "\n",
    "    def vender_producto(self, id_producto, cantidad):\n",
    "        for p in self.productos:\n",
    "            if p.id == id_producto:\n",
    "                if p.stock >= cantidad:\n",
    "                    p.stock -= cantidad\n",
    "                    total = cantidad * p.precio\n",
    "                    return f'\\nVenta realizada. Total a pagar: {total:.2f}'\n",
    "                else:\n",
    "                    return 'Stock insuficiente'\n",
    "        return 'Producto no encontrado'\n",
    "\n",
    "    def productos_bajos_stock(self, limite):\n",
    "        return [p for p in self.productos if p.stock <= limite]"
   ]
  },
  {
   "cell_type": "code",
   "execution_count": 166,
   "id": "b72c9a5d",
   "metadata": {},
   "outputs": [
    {
     "name": "stdout",
     "output_type": "stream",
     "text": [
      "\n",
      "Inventario de productos:\n",
      "[105] SSD 1TB - Almacenamiento | Stock: 8 | $110.00\n",
      "[104] Laptop Ryzen 7 - Computadoras | Stock: 3 | $750.00\n",
      "[103] Monitor 24'' - Pantallas | Stock: 5 | $120.00\n",
      "[101] Teclado Mecánico - Periféricos | Stock: 12 | $45.50\n",
      "[102] Mouse Gamer - Periféricos | Stock: 20 | $25.00\n",
      "\n",
      "El producto es: [102] Mouse Gamer - Periféricos | Stock: 20 | $25.00\n",
      "\n",
      "Venta realizada. Total a pagar: 50.00\n",
      "\n",
      "Inventario de productos:\n",
      "[105] SSD 1TB - Almacenamiento | Stock: 8 | $110.00\n",
      "[104] Laptop Ryzen 7 - Computadoras | Stock: 3 | $750.00\n",
      "[103] Monitor 24'' - Pantallas | Stock: 5 | $120.00\n",
      "[101] Teclado Mecánico - Periféricos | Stock: 12 | $45.50\n",
      "[102] Mouse Gamer - Periféricos | Stock: 18 | $25.00\n",
      "\n",
      "Productos con stock bajo:\n",
      "[103] Monitor 24'' - Pantallas | Stock: 5 | $120.00\n",
      "[104] Laptop Ryzen 7 - Computadoras | Stock: 3 | $750.00\n"
     ]
    }
   ],
   "source": [
    "# Ejemplo de uso\n",
    "\n",
    "# Crear productos y agregar al inventario\n",
    "prod = Producto(101, \"Teclado Mecánico\", \"Periféricos\", 12, 45.50)\n",
    "\n",
    "inv = Inventario()\n",
    "inv.agregar_producto(prod)\n",
    "inv.agregar_producto(Producto(102, \"Mouse Gamer\", \"Periféricos\", 20, 25.00))\n",
    "inv.agregar_producto(Producto(103, \"Monitor 24''\", \"Pantallas\", 5, 120.00))\n",
    "inv.agregar_producto(Producto(104, \"Laptop Ryzen 7\", \"Computadoras\", 3, 750.00))\n",
    "inv.agregar_producto(Producto(105, \"SSD 1TB\", \"Almacenamiento\", 8, 110.00))\n",
    "\n",
    "# Mostrar productos en el inventario\n",
    "inv.mostrar_inventario()\n",
    "\n",
    "# Buscar producto\n",
    "print(inv.buscar_producto(\"Mouse Gamer\"))\n",
    "\n",
    "# Vender\n",
    "print(inv.vender_producto(102, 2))\n",
    "\n",
    "# Mostrar productos en el inventario\n",
    "inv.mostrar_inventario()\n",
    "\n",
    "# Ver productos con bajo stock\n",
    "print(\"\\nProductos con stock bajo:\")\n",
    "bajos = inv.productos_bajos_stock(5)\n",
    "for p in bajos:\n",
    "    print(p)"
   ]
  }
 ],
 "metadata": {
  "kernelspec": {
   "display_name": "python_310",
   "language": "python",
   "name": "python3"
  },
  "language_info": {
   "codemirror_mode": {
    "name": "ipython",
    "version": 3
   },
   "file_extension": ".py",
   "mimetype": "text/x-python",
   "name": "python",
   "nbconvert_exporter": "python",
   "pygments_lexer": "ipython3",
   "version": "3.10.16"
  }
 },
 "nbformat": 4,
 "nbformat_minor": 5
}
