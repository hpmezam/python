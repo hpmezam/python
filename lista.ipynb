{
 "cells": [
  {
   "cell_type": "code",
   "execution_count": 13,
   "id": "a87222fc",
   "metadata": {},
   "outputs": [
    {
     "name": "stdout",
     "output_type": "stream",
     "text": [
      "s p 0 m \n",
      "1 0 \n",
      "g o l o n d r i n 0 \n"
     ]
    }
   ],
   "source": [
    "lista = [\"spam\", '10', \"golondrina\"]\n",
    "for i in lista:\n",
    "    for j in i:\n",
    "        if j == 'a':\n",
    "            j = 0\n",
    "            print(j, end=' ')\n",
    "        else:\n",
    "            print(j, end=' ')\n",
    "        \n",
    "    print()"
   ]
  },
  {
   "cell_type": "code",
   "execution_count": 27,
   "id": "21cb66e2",
   "metadata": {},
   "outputs": [
    {
     "data": {
      "text/plain": [
       "[0, 2, 4, 6, 8, 10, 12, 14, 16, 18]"
      ]
     },
     "execution_count": 27,
     "metadata": {},
     "output_type": "execute_result"
    }
   ],
   "source": [
    "a = [i*2 for i in range(10)]\n",
    "a"
   ]
  },
  {
   "cell_type": "code",
   "execution_count": 47,
   "id": "c7e317b4",
   "metadata": {},
   "outputs": [
    {
     "name": "stdout",
     "output_type": "stream",
     "text": [
      "Si se encuentra en la posicion: [1, 3, 5, 9]\n"
     ]
    }
   ],
   "source": [
    "jinetes = ['guerra', 'hambre', 'guerra', 'muerte', 'guerra', 'hambre', 'peste', 'muerte', 'guerra', 'hambre', 'peste', 'muerte']\n",
    "variable = 'guerra'\n",
    "if variable in jinetes:\n",
    "    cont = 0\n",
    "    posiciones = []\n",
    "    for i in jinetes:\n",
    "        cont +=1\n",
    "        if i == variable:\n",
    "            pos = cont\n",
    "            if cont == 1:\n",
    "                posiciones.append(pos)\n",
    "            else:\n",
    "                posiciones.append(pos)\n",
    "    print(f'Si se encuentra en la posicion: {posiciones}')\n",
    "else:\n",
    "    print('No se encuentra')"
   ]
  },
  {
   "cell_type": "code",
   "execution_count": null,
   "id": "59240b2f",
   "metadata": {},
   "outputs": [
    {
     "name": "stdout",
     "output_type": "stream",
     "text": [
      "brillo\n",
      "['plátano', 'manzana', 'mema']\n"
     ]
    }
   ],
   "source": [
    "# LAS LISTAS SON MUTABLES\n",
    "fruta = [\"plátano\", \"manzana\", \"membrillo\"]\n",
    "print(fruta[2][3:])\n",
    "fruta[2] = fruta[2][0:3] + 'a'\n",
    "print(fruta)"
   ]
  },
  {
   "cell_type": "code",
   "execution_count": 66,
   "id": "7fb00ec9",
   "metadata": {},
   "outputs": [
    {
     "name": "stdout",
     "output_type": "stream",
     "text": [
      "['uno', 'dos', 'tres']\n",
      "['cuatro', 'cinco', 'tres']\n",
      "['cuatro', 'cinco', 'tres', 'seis']\n",
      "['cuatro', 'cinco', 'siete', 'tres', 'seis']\n",
      "['siete', 'tres', 'seis']\n",
      "['siete', 'tres']\n"
     ]
    }
   ],
   "source": [
    "# BORRADO EN UNA LISTA\n",
    "lista = ['uno', 'dos', 'tres']\n",
    "print(lista)\n",
    "lista[0:2] = ['cuatro', 'cinco']\n",
    "print(lista)\n",
    "lista.append('seis')\n",
    "print(lista)\n",
    "lista.insert(2, 'siete')\n",
    "print(lista)\n",
    "del lista[0:2]\n",
    "print(lista)\n",
    "lista.remove('seis')\n",
    "print(lista)"
   ]
  },
  {
   "cell_type": "markdown",
   "id": "5c7e44a4",
   "metadata": {},
   "source": [
    "Lista como parámetros"
   ]
  },
  {
   "cell_type": "code",
   "execution_count": 79,
   "id": "8ab779ef",
   "metadata": {},
   "outputs": [
    {
     "name": "stdout",
     "output_type": "stream",
     "text": [
      "[2, 3, 4, 5]\n",
      "[2, 4]\n"
     ]
    }
   ],
   "source": [
    "numeros = [1, 2, 3, 4, 5]\n",
    "def borrarCabeza(lista):\n",
    "    del lista[0]\n",
    "    return lista\n",
    "\n",
    "a = borrarCabeza(numeros)\n",
    "print(numeros)\n",
    "\n",
    "def cola(lista):\n",
    "    return lista[:4:2]\n",
    "\n",
    "b = cola(numeros)\n",
    "print(b)"
   ]
  },
  {
   "cell_type": "markdown",
   "id": "36199a48",
   "metadata": {},
   "source": [
    "Matrices"
   ]
  },
  {
   "cell_type": "code",
   "execution_count": 88,
   "id": "30ff84b3",
   "metadata": {},
   "outputs": [
    {
     "name": "stdout",
     "output_type": "stream",
     "text": [
      "[[4, 5, 6], [7, 8, 9]]\n",
      "6\n",
      "[9]\n"
     ]
    }
   ],
   "source": [
    "matriz = [[1, 2, 3], [4, 5, 6], [7, 8, 9]]\n",
    "print(matriz[1:])\n",
    "print(matriz[1][2])\n",
    "print(matriz[2][2:])"
   ]
  }
 ],
 "metadata": {
  "kernelspec": {
   "display_name": "python_310",
   "language": "python",
   "name": "python3"
  },
  "language_info": {
   "codemirror_mode": {
    "name": "ipython",
    "version": 3
   },
   "file_extension": ".py",
   "mimetype": "text/x-python",
   "name": "python",
   "nbconvert_exporter": "python",
   "pygments_lexer": "ipython3",
   "version": "3.10.16"
  }
 },
 "nbformat": 4,
 "nbformat_minor": 5
}
