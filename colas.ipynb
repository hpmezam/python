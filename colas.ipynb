{
 "cells": [
  {
   "cell_type": "markdown",
   "id": "8611d5b0",
   "metadata": {},
   "source": [
    "Ejercicio: Simulador de Atención en un Centro de Servicios (Cola)"
   ]
  },
  {
   "cell_type": "code",
   "execution_count": 1,
   "id": "45e96a40",
   "metadata": {},
   "outputs": [],
   "source": [
    "\"\"\"Vamos a simular un centro de atención al cliente donde:\n",
    "\n",
    "* Los clientes llegan y se forman en la cola.\n",
    "* Se atiende a los clientes en el orden en que llegaron.\n",
    "* Puedes ver quién es el siguiente en ser atendido.\n",
    "* Puedes mostrar toda la cola actual.\n",
    "* También puedes contar cuántos clientes están esperando.\"\"\"\n",
    "\n",
    "from collections import deque\n",
    "\n",
    "class CentroDeServicios:\n",
    "    def __init__(self):\n",
    "        self.cola_clientes = deque()\n",
    "\n",
    "    def llegar_cliente(self, nombre):\n",
    "        self.cola_clientes.append(nombre)\n",
    "        print(f'Cliente {nombre} ha llegado.')\n",
    "    \n",
    "    def atender_cliente(self):\n",
    "        if self.cola_clientes:\n",
    "            cliente = self.cola_clientes.popleft()\n",
    "            print(f'Atendiendo al cliente: {cliente}.')\n",
    "        else:\n",
    "            print('No hay clientes en la cola.')\n",
    "    \n",
    "    def siguiente_cliente(self):\n",
    "        if self.cola_clientes:\n",
    "            print(f'Siguiente cliente en la cola: {self.cola_clientes[0]}.')\n",
    "        else:\n",
    "            print('No hay clientes esperando.')\n",
    "    \n",
    "    def mostrar_cola(self):\n",
    "        if self.cola_clientes:\n",
    "            print('Clientes en la cola:')\n",
    "            for cliente in self.cola_clientes:\n",
    "                print(f'- {cliente}')\n",
    "        else:\n",
    "            print('La cola esta vacía.')\n",
    "\n",
    "    def contar_clientes(self):\n",
    "        print(f'Total de clientes esperando: {len(self.cola_clientes)}')"
   ]
  },
  {
   "cell_type": "code",
   "execution_count": 2,
   "id": "19d16795",
   "metadata": {},
   "outputs": [
    {
     "name": "stdout",
     "output_type": "stream",
     "text": [
      "Cliente Ana ha llegado.\n",
      "Cliente Carlos ha llegado.\n",
      "Cliente María ha llegado.\n",
      "Clientes en la cola:\n",
      "- Ana\n",
      "- Carlos\n",
      "- María\n",
      "Siguiente cliente en la cola: Ana.\n",
      "Atendiendo al cliente: Ana.\n",
      "Clientes en la cola:\n",
      "- Carlos\n",
      "- María\n",
      "Total de clientes esperando: 2\n"
     ]
    }
   ],
   "source": [
    "servicio = CentroDeServicios()\n",
    "\n",
    "servicio.llegar_cliente(\"Ana\")\n",
    "servicio.llegar_cliente(\"Carlos\")\n",
    "servicio.llegar_cliente(\"María\")\n",
    "\n",
    "servicio.mostrar_cola()\n",
    "servicio.siguiente_cliente()\n",
    "\n",
    "servicio.atender_cliente()\n",
    "servicio.mostrar_cola()\n",
    "\n",
    "servicio.contar_clientes()\n"
   ]
  }
 ],
 "metadata": {
  "kernelspec": {
   "display_name": "python_310",
   "language": "python",
   "name": "python3"
  },
  "language_info": {
   "codemirror_mode": {
    "name": "ipython",
    "version": 3
   },
   "file_extension": ".py",
   "mimetype": "text/x-python",
   "name": "python",
   "nbconvert_exporter": "python",
   "pygments_lexer": "ipython3",
   "version": "3.10.16"
  }
 },
 "nbformat": 4,
 "nbformat_minor": 5
}
