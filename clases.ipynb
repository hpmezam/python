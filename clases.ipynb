{
 "cells": [
  {
   "cell_type": "code",
   "execution_count": 108,
   "id": "d881538e",
   "metadata": {},
   "outputs": [
    {
     "name": "stdout",
     "output_type": "stream",
     "text": [
      "La hora es: 08:37:06\n"
     ]
    }
   ],
   "source": [
    "class Hora:\n",
    "    def __init__(self, hora=0, minuto=0, segundo=0):\n",
    "        self.hora = hora\n",
    "        self.minuto = minuto\n",
    "        self.segundo = segundo\n",
    "    def imprimeHora(self):\n",
    "        return f\"La hora es: {self.hora:02}:{self.minuto:02}:{self.segundo:02}\"\n",
    "    def verificarHora(self):\n",
    "        if self.segundo >= 60:\n",
    "            minutos = int(self.segundo / 60)\n",
    "            segundos = self.segundo % 60\n",
    "            self.minuto += minutos\n",
    "            self.segundo = segundos\n",
    "            if self.minuto >= 60:\n",
    "                horas = int(self.minuto / 60)\n",
    "                minutos = self.minuto % 60\n",
    "                self.hora += horas\n",
    "                self.minuto = minutos\n",
    "                if self.hora >= 24:\n",
    "                    self.hora = self.hora % 24\n",
    "        elif self.minuto >= 60:\n",
    "            horas = int(self.minuto / 60)\n",
    "            minutos = self.minuto % 60\n",
    "            self.hora += horas\n",
    "            self.minuto = minutos\n",
    "            if self.hora >= 24:\n",
    "                self.hora = self.hora % 24\n",
    "        else:\n",
    "            if self.hora >= 24:\n",
    "                self.hora = self.hora % 24\n",
    "       \n",
    "        print(self.imprimeHora())\n",
    "\n",
    "hora = Hora(123,324, 786)\n",
    "hora.verificarHora()"
   ]
  }
 ],
 "metadata": {
  "kernelspec": {
   "display_name": "python_310",
   "language": "python",
   "name": "python3"
  },
  "language_info": {
   "codemirror_mode": {
    "name": "ipython",
    "version": 3
   },
   "file_extension": ".py",
   "mimetype": "text/x-python",
   "name": "python",
   "nbconvert_exporter": "python",
   "pygments_lexer": "ipython3",
   "version": "3.10.16"
  }
 },
 "nbformat": 4,
 "nbformat_minor": 5
}
