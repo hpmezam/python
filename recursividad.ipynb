{
 "cells": [
  {
   "cell_type": "markdown",
   "id": "9e7418dc",
   "metadata": {},
   "source": [
    "Recursividad-. Es cuando una función se llama así misma."
   ]
  },
  {
   "cell_type": "code",
   "execution_count": 24,
   "id": "2965b07a",
   "metadata": {},
   "outputs": [
    {
     "name": "stdout",
     "output_type": "stream",
     "text": [
      "El factorial de 10 es: 3628800 \n",
      "longitud: 7\n"
     ]
    }
   ],
   "source": [
    "\n",
    "def factorialNumero(num):\n",
    "    if num == 0:\n",
    "        # print(num)\n",
    "        return 1\n",
    "    else:\n",
    "        # print(num)\n",
    "        return num * factorialNumero(num - 1)\n",
    "        \n",
    "        \n",
    "num = 10\n",
    "factorial = factorialNumero(num)\n",
    "pala = str(factorial)\n",
    "longitud = len(pala)\n",
    "print(f'El factorial de {num} es: {factorial} \\nlongitud: {longitud}')\n",
    "\n",
    "\n",
    "# 1 2 3 4 5\n",
    "#  num * factorial(num - 1) = 5 * factorial(5 - 1) = 5 * factorial(4) = 5 * 24 = 120\n",
    "#  num * factorial(num - 1) = 4 * factorial(4 - 1) = 4 * factorial(3) = 4 * 6 = 24\n",
    "#  num * factorial(num - 1) = 3 * factorial(3 - 1) = 3 * factorial(2) = 3 * 2 = 6\n",
    "#  num * factorial(num - 1) = 2 * factorial(2 - 1) = 2 * factorial(1) = 2 * 1 = 2\n",
    "#  num * factorial(num - 1) = 1 * factorial(1 - 1) = 1 * factorial(0) = 1 * 1 = 1\n",
    "#  factorial(0)                                                     = 1\n",
    "\n"
   ]
  }
 ],
 "metadata": {
  "kernelspec": {
   "display_name": "python_310",
   "language": "python",
   "name": "python3"
  },
  "language_info": {
   "codemirror_mode": {
    "name": "ipython",
    "version": 3
   },
   "file_extension": ".py",
   "mimetype": "text/x-python",
   "name": "python",
   "nbconvert_exporter": "python",
   "pygments_lexer": "ipython3",
   "version": "3.10.16"
  }
 },
 "nbformat": 4,
 "nbformat_minor": 5
}
