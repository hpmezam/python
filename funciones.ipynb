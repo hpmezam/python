{
 "cells": [
  {
   "cell_type": "markdown",
   "metadata": {},
   "source": [
    "Creación de una función"
   ]
  },
  {
   "cell_type": "code",
   "execution_count": 12,
   "metadata": {},
   "outputs": [
    {
     "name": "stdout",
     "output_type": "stream",
     "text": [
      "Henry Henry "
     ]
    }
   ],
   "source": [
    "def imprimeDoble(paso):\n",
    "    for i in range(2):\n",
    "        print(paso, end=' ')\n",
    "\n",
    "paso = 'Henry'\n",
    "imprimeDoble(paso)"
   ]
  },
  {
   "cell_type": "markdown",
   "metadata": {},
   "source": [
    "Las variables y los parámetros son locales"
   ]
  },
  {
   "cell_type": "code",
   "execution_count": null,
   "metadata": {},
   "outputs": [
    {
     "name": "stdout",
     "output_type": "stream",
     "text": [
      "Mi nombre es Henry, tengo 28 años. Mi nombre es Henry, tengo 28 años. None\n"
     ]
    }
   ],
   "source": [
    "def dosPartes(parte1, parte2):\n",
    "    cat = parte1+ parte2\n",
    "    imprimeDoble(cat)\n",
    "    \n",
    "\n",
    "parte1 = 'Mi nombre es Henry, '\n",
    "parte2 = 'tengo 28 años.'\n",
    "dosPartes(parte1, parte2)\n"
   ]
  }
 ],
 "metadata": {
  "kernelspec": {
   "display_name": "python_310",
   "language": "python",
   "name": "python3"
  },
  "language_info": {
   "codemirror_mode": {
    "name": "ipython",
    "version": 3
   },
   "file_extension": ".py",
   "mimetype": "text/x-python",
   "name": "python",
   "nbconvert_exporter": "python",
   "pygments_lexer": "ipython3",
   "version": "3.10.16"
  }
 },
 "nbformat": 4,
 "nbformat_minor": 2
}
