{
 "cells": [
  {
   "cell_type": "markdown",
   "id": "77296cb3",
   "metadata": {},
   "source": [
    "Las listas enlazadas se componen de nodos, donde cada nodo contiene una\n",
    "referencia al próximo nodo de la lista. Además, cada nodo contiene una unidad\n",
    "de datos llamada carga"
   ]
  },
  {
   "cell_type": "code",
   "execution_count": 45,
   "id": "40d756ce",
   "metadata": {},
   "outputs": [],
   "source": [
    "class Nodo:\n",
    "    def __init__(self, dato):\n",
    "        self.dato = dato\n",
    "        self.siguiente = None\n",
    "\n",
    "class ListaEnlazada:\n",
    "    def __init__(self):\n",
    "        self.cabeza = None\n",
    "\n",
    "    def agregar(self, dato):\n",
    "        nuevo = Nodo(dato)\n",
    "        if not self.cabeza:\n",
    "            self.cabeza = nuevo\n",
    "        else:\n",
    "            actual = self.cabeza\n",
    "            while actual.siguiente:\n",
    "                actual = actual.siguiente\n",
    "            actual.siguiente = nuevo\n",
    "\n",
    "    def mostrar(self):\n",
    "        actual = self.cabeza\n",
    "        while actual:\n",
    "            print(actual.dato, end = ' -> ')\n",
    "            actual = actual.siguiente\n",
    "        print('None')\n",
    "\n",
    "    def agregarInicio(self, dato):\n",
    "        nuevo = Nodo(dato)\n",
    "        nuevo.siguiente = self.cabeza\n",
    "        self.cabeza = nuevo\n",
    "\n",
    "    def mostrarRecursivo(nodo):\n",
    "        if nodo is None:\n",
    "            return\n",
    "        print(nodo.dato, end = ' -> ')\n",
    "        mostrarRecursivo(nodo.siguiente)\n",
    "\n",
    "    def contarNodos(self):\n",
    "        contador = 0\n",
    "        actual = self.cabeza\n",
    "        while actual:\n",
    "            contador += 1\n",
    "            actual = actual.siguiente\n",
    "        return contador\n",
    "\n",
    "    def contadorRecursivo(self, nodo):\n",
    "        if nodo is None:\n",
    "            return 0\n",
    "        return 1 + self.contadorRecursivo(nodo.siguiente)"
   ]
  },
  {
   "cell_type": "code",
   "execution_count": 47,
   "id": "229f8376",
   "metadata": {},
   "outputs": [
    {
     "name": "stdout",
     "output_type": "stream",
     "text": [
      "1 -> 5 -> 2 -> 3 -> None\n",
      "Contador de Nodos: 4\n",
      "COntador de Nodos Recursivo: 4\n"
     ]
    }
   ],
   "source": [
    "lista = ListaEnlazada()\n",
    "lista.agregar(5)\n",
    "lista.agregar(2)\n",
    "lista.agregar(3)\n",
    "lista.agregarInicio(1)\n",
    "lista.mostrar()\n",
    "print(\"Contador de Nodos:\", lista.contarNodos())\n",
    "print(\"COntador de Nodos Recursivo:\", lista.contadorRecursivo(lista.cabeza))\n"
   ]
  }
 ],
 "metadata": {
  "kernelspec": {
   "display_name": "python_310",
   "language": "python",
   "name": "python3"
  },
  "language_info": {
   "codemirror_mode": {
    "name": "ipython",
    "version": 3
   },
   "file_extension": ".py",
   "mimetype": "text/x-python",
   "name": "python",
   "nbconvert_exporter": "python",
   "pygments_lexer": "ipython3",
   "version": "3.10.16"
  }
 },
 "nbformat": 4,
 "nbformat_minor": 5
}
